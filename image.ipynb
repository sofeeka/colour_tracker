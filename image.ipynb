{
 "cells": [
  {
   "cell_type": "code",
   "execution_count": null,
   "id": "initial_id",
   "metadata": {
    "collapsed": true
   },
   "outputs": [],
   "source": [
    "# Import libraries: cv2 (OpenCV), numpy, sys (1 point).\n",
    "import sys\n",
    "import cv2\n",
    "import numpy as np\n",
    "import matplotlib.pyplot as plt"
   ]
  },
  {
   "cell_type": "code",
   "outputs": [],
   "source": [
    "def print_image(image, color_space=\"rgb\", title=\"\"):\n",
    "    if len(image.shape) == 2:\n",
    "        pixels = np.array(image)\n",
    "        plt.imshow(pixels, cmap=\"gray\")\n",
    "    else:\n",
    "        if color_space == \"bgr\":\n",
    "            img = cv2.cvtColor(image, cv2.COLOR_BGR2RGB)\n",
    "        elif color_space == \"hsv\":\n",
    "            img = cv2.cvtColor(image, cv2.COLOR_HSV2RGB)\n",
    "        else:\n",
    "            img = image\n",
    "\n",
    "        pixels = np.array(img)\n",
    "        plt.imshow(pixels / 255.0)\n",
    "\n",
    "    plt.title(title)\n",
    "    plt.show()"
   ],
   "metadata": {
    "collapsed": false
   },
   "id": "15125c7bc7e99dc",
   "execution_count": null
  },
  {
   "cell_type": "code",
   "outputs": [],
   "source": [
    "def print_image(image, color_space=\"rgb\", title=\"\"):\n",
    "    fig, axes = plt.subplots(1, 2, figsize=(10, 5))\n",
    "    \n",
    "    # Sent image\n",
    "    axes[0].imshow(image if len(image.shape) == 3 else image, cmap='gray' if len(image.shape) == 2 else None)\n",
    "    axes[0].set_title(\"Raw Image\")\n",
    "    axes[0].axis(\"off\")\n",
    "    \n",
    "    # Converted image\n",
    "    if len(image.shape) == 2:\n",
    "        converted_image = image\n",
    "    else:\n",
    "        if color_space == \"bgr\":\n",
    "            converted_image = cv2.cvtColor(image, cv2.COLOR_BGR2RGB)\n",
    "        elif color_space == \"hsv\":\n",
    "            converted_image = cv2.cvtColor(image, cv2.COLOR_HSV2RGB)\n",
    "        else:\n",
    "            converted_image = image\n",
    "    \n",
    "    axes[1].imshow(converted_image / 255.0 if len(image.shape) == 3 else converted_image, cmap='gray' if len(image.shape) == 2 else None)\n",
    "    axes[1].set_title(\"Converted Image\")\n",
    "    axes[1].axis(\"off\")\n",
    "    \n",
    "    fig.suptitle(title)\n",
    "    plt.show()"
   ],
   "metadata": {
    "collapsed": false
   },
   "id": "2549b1fe34699ff8",
   "execution_count": null
  },
  {
   "cell_type": "code",
   "outputs": [],
   "source": [
    "# Import photo ball.png (1 point).\n",
    "image = cv2.imread('red_ball.jpg')\n",
    "\n",
    "# Set the condition for the correct loading of the image, e.g. using the 'sys.exit' command (1 point).\n",
    "if image is None:\n",
    "    sys.exit(1)\n",
    "\n",
    "print_image(image, color_space='bgr')"
   ],
   "metadata": {
    "collapsed": false
   },
   "id": "4336f0aba93a6ced",
   "execution_count": null
  },
  {
   "cell_type": "code",
   "outputs": [],
   "source": [
    "# Change the image format to HSV (1 point).\n",
    "image = cv2.cvtColor(image, cv2.COLOR_BGR2HSV)\n",
    "print_image(image, color_space='hsv')"
   ],
   "metadata": {
    "collapsed": false
   },
   "id": "ab1014f7bf5551c3",
   "execution_count": null
  },
  {
   "cell_type": "code",
   "outputs": [],
   "source": [
    "# Find the colours using a binary operation (1 point).\n",
    "\n",
    "# two masks as red is at the start (around 0) and the end (around 360) of the range \n",
    "\n",
    "# Hue 0 red, 20 orange; 360 red, 340 pinkish, divided by 2 because opencv has values 0-179\n",
    "# Saturation quarter - max 65 - 255\n",
    "# Value (brightness) quarter - max 65 - 255\n",
    "\n",
    "sat = 50\n",
    "val = 45\n",
    "\n",
    "lower_red1 = np.array([0, sat, val])\n",
    "upper_red1 = np.array([10, 255, 255])\n",
    "\n",
    "lower_red2 = np.array([170, sat, val])\n",
    "upper_red2 = np.array([180, 255, 255])\n",
    "\n",
    "mask1 = cv2.inRange(image, lower_red1, upper_red1)\n",
    "mask2 = cv2.inRange(image, lower_red2, upper_red2)\n",
    "\n",
    "mask = mask1 + mask2\n",
    "\n",
    "print_image(mask)"
   ],
   "metadata": {
    "collapsed": false
   },
   "id": "e7ba0018a00c2a57",
   "execution_count": null
  },
  {
   "cell_type": "code",
   "outputs": [],
   "source": [
    "# Improve image quality (remove noise) through morphological operations (1 point).\n",
    "\n",
    "# https://docs.opencv.org/4.x/d9/d61/tutorial_py_morphological_ops.html\n",
    "# erosion \"eats\" the image, makes it smaller. 1 if ALL pixels under kernel are 1\n",
    "# dilation \"fattens\" the image, makes it bigger. 1 if ANY pixel under kernel is 1\n",
    "\n",
    "# opening - erosion followed by dilation, removes outer noise\n",
    "# closing - dilation followed by erosion, removes inner noise\n",
    "\n",
    "kernel = np.ones((7, 7), np.uint8)\n",
    "\n",
    "# opening to remove noise in the background of the red ball (the white region)\n",
    "mask_cleaned = cv2.morphologyEx(mask, cv2.MORPH_OPEN, kernel)\n",
    "print_image(mask_cleaned)"
   ],
   "metadata": {
    "collapsed": false
   },
   "id": "bd3bf8154c936497",
   "execution_count": null
  },
  {
   "cell_type": "code",
   "outputs": [],
   "source": [
    "# closing to remove noise in the background of the red ball (the black region)\n",
    "mask_cleaned = cv2.morphologyEx(mask_cleaned, cv2.MORPH_CLOSE, kernel)\n",
    "print_image(mask_cleaned)"
   ],
   "metadata": {
    "collapsed": false
   },
   "id": "5a76d93b501adb95",
   "execution_count": null
  },
  {
   "cell_type": "code",
   "outputs": [],
   "source": [
    "image_labeled = image.copy()"
   ],
   "metadata": {
    "collapsed": false
   },
   "id": "69f8d14a974441ab",
   "execution_count": null
  },
  {
   "cell_type": "code",
   "outputs": [],
   "source": [
    "# image_labeled = image\n",
    "# Add the calculated centre of gravity of the ball to the image (1 point).\n",
    "\n",
    "# cv2.RETR_EXTERNAL retrieve only external contours\n",
    "# cv2.CHAIN_APPROX_SIMPLE compress segments\n",
    "contours, _ = cv2.findContours(mask_cleaned, cv2.RETR_EXTERNAL, cv2.CHAIN_APPROX_SIMPLE)\n",
    "\n",
    "if not contours:\n",
    "    sys.exit(1)\n",
    "\n",
    "largest_contour = max(contours, key=cv2.contourArea)\n",
    "\n",
    "M = cv2.moments(largest_contour)\n",
    "if M[\"m00\"] != 0:\n",
    "    cx = int(M[\"m10\"] / M[\"m00\"])\n",
    "    cy = int(M[\"m01\"] / M[\"m00\"])\n",
    "    cv2.circle(image_labeled, (cx, cy), 3, (0, 0, 255), -1)\n",
    "print_image(image_labeled, color_space='hsv')"
   ],
   "metadata": {
    "collapsed": false
   },
   "id": "79711c41697ad326",
   "execution_count": null
  },
  {
   "cell_type": "code",
   "outputs": [],
   "source": [
    "# Add the word \"red ball\" near the centre of gravity (1 point).\n",
    "cv2.putText(image_labeled, \"red ball\", (cx - 40, cy - 20), cv2.FONT_HERSHEY_SIMPLEX, 0.7, (0, 0, 255), 2)\n",
    "print_image(image_labeled, color_space='hsv')"
   ],
   "metadata": {
    "collapsed": false
   },
   "id": "77e015829a4ddeb7",
   "execution_count": null
  },
  {
   "cell_type": "code",
   "outputs": [],
   "source": [],
   "metadata": {
    "collapsed": false
   },
   "id": "eb6c7b04e50e9288",
   "execution_count": null
  }
 ],
 "metadata": {
  "kernelspec": {
   "display_name": "Python 3",
   "language": "python",
   "name": "python3"
  },
  "language_info": {
   "codemirror_mode": {
    "name": "ipython",
    "version": 2
   },
   "file_extension": ".py",
   "mimetype": "text/x-python",
   "name": "python",
   "nbconvert_exporter": "python",
   "pygments_lexer": "ipython2",
   "version": "2.7.6"
  }
 },
 "nbformat": 4,
 "nbformat_minor": 5
}
